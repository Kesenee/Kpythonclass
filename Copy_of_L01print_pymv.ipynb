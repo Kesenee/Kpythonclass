{
  "nbformat": 4,
  "nbformat_minor": 0,
  "metadata": {
    "colab": {
      "provenance": [],
      "authorship_tag": "ABX9TyODk2nzC7qjvseV5scexZhH",
      "include_colab_link": true
    },
    "kernelspec": {
      "name": "python3",
      "display_name": "Python 3"
    },
    "language_info": {
      "name": "python"
    }
  },
  "cells": [
    {
      "cell_type": "markdown",
      "metadata": {
        "id": "view-in-github",
        "colab_type": "text"
      },
      "source": [
        "<a href=\"https://colab.research.google.com/github/Kesenee/Kpythonclass/blob/main/Copy_of_L01print_pymv.ipynb\" target=\"_parent\"><img src=\"https://colab.research.google.com/assets/colab-badge.svg\" alt=\"Open In Colab\"/></a>"
      ]
    },
    {
      "cell_type": "code",
      "execution_count": null,
      "metadata": {
        "colab": {
          "base_uri": "https://localhost:8080/"
        },
        "id": "Yi_oHXIF4Nwm",
        "outputId": "ceb53247-dbea-41bc-e970-33f927f6e1cf"
      },
      "outputs": [
        {
          "output_type": "stream",
          "name": "stdout",
          "text": [
            "Helo World\n"
          ]
        }
      ],
      "source": [
        "print('Hello World')"
      ]
    },
    {
      "cell_type": "code",
      "source": [
        "print('Information and Network Engineering')"
      ],
      "metadata": {
        "colab": {
          "base_uri": "https://localhost:8080/"
        },
        "id": "8r1cOMHN4ulj",
        "outputId": "2723445c-b0de-4db9-d777-54b9889bc926"
      },
      "execution_count": null,
      "outputs": [
        {
          "output_type": "stream",
          "name": "stdout",
          "text": [
            "Information and Network Engineering\n"
          ]
        }
      ]
    },
    {
      "cell_type": "code",
      "source": [
        "print('Hello Kesenee you will be great')"
      ],
      "metadata": {
        "colab": {
          "base_uri": "https://localhost:8080/"
        },
        "id": "ICM71u1q44v6",
        "outputId": "f7a25b82-1a1a-4257-e00e-11158a95f79e"
      },
      "execution_count": null,
      "outputs": [
        {
          "output_type": "stream",
          "name": "stdout",
          "text": [
            "Hello Kesenee you will be great\n"
          ]
        }
      ]
    },
    {
      "cell_type": "code",
      "source": [
        "print('Hello Kesenee')"
      ],
      "metadata": {
        "colab": {
          "base_uri": "https://localhost:8080/"
        },
        "id": "_-90W0Sw8WgK",
        "outputId": "96840dba-ffb5-4bc9-cdbd-e377d070c9ae"
      },
      "execution_count": null,
      "outputs": [
        {
          "output_type": "stream",
          "name": "stdout",
          "text": [
            "Hello Kesenee\n"
          ]
        }
      ]
    },
    {
      "cell_type": "code",
      "source": [
        "print(\"I'm hungry\")"
      ],
      "metadata": {
        "colab": {
          "base_uri": "https://localhost:8080/"
        },
        "id": "isrxzdny8kLp",
        "outputId": "164c42f3-991e-4436-f23b-af0af896bad0"
      },
      "execution_count": null,
      "outputs": [
        {
          "output_type": "stream",
          "name": "stdout",
          "text": [
            "I'm hungry\n"
          ]
        }
      ]
    },
    {
      "cell_type": "code",
      "source": [
        "print('He ask me \"who got the book?\" ')"
      ],
      "metadata": {
        "colab": {
          "base_uri": "https://localhost:8080/"
        },
        "id": "NHsu-2hj9JKq",
        "outputId": "c73f5b4a-1239-4b7a-939e-5a39fb88af97"
      },
      "execution_count": null,
      "outputs": [
        {
          "output_type": "stream",
          "name": "stdout",
          "text": [
            "He ask me \"who got the book?\" \n"
          ]
        }
      ]
    },
    {
      "cell_type": "code",
      "source": [
        "print(\"I'm good and \\\"I will do my best\\\" \")"
      ],
      "metadata": {
        "colab": {
          "base_uri": "https://localhost:8080/"
        },
        "id": "WVbe2twe92Er",
        "outputId": "d8dbce14-edfd-4c51-a1c2-78a8f8fc5575"
      },
      "execution_count": null,
      "outputs": [
        {
          "output_type": "stream",
          "name": "stdout",
          "text": [
            "I'm good and \"I will do my best\" \n"
          ]
        }
      ]
    },
    {
      "cell_type": "code",
      "source": [
        "print('/\\\\')"
      ],
      "metadata": {
        "colab": {
          "base_uri": "https://localhost:8080/"
        },
        "id": "Xfk7aniD-T_x",
        "outputId": "f17c2f11-ac66-42b8-8902-068473789522"
      },
      "execution_count": null,
      "outputs": [
        {
          "output_type": "stream",
          "name": "stdout",
          "text": [
            "/\\\n"
          ]
        }
      ]
    },
    {
      "cell_type": "code",
      "source": [
        "print('\\ta\\na\\ta\\ta\\n\\ta')"
      ],
      "metadata": {
        "colab": {
          "base_uri": "https://localhost:8080/"
        },
        "id": "wznE1I72-s5h",
        "outputId": "8389492a-4879-448b-a7cd-55382eb44f11"
      },
      "execution_count": null,
      "outputs": [
        {
          "output_type": "stream",
          "name": "stdout",
          "text": [
            "\ta\n",
            "a\ta\ta\n",
            "\ta\n"
          ]
        }
      ]
    },
    {
      "cell_type": "code",
      "source": [
        "print('''\\ta\n",
        "a\\ta\\ta\n",
        "\\ta''')"
      ],
      "metadata": {
        "colab": {
          "base_uri": "https://localhost:8080/"
        },
        "id": "Ag-N0UiI_h1h",
        "outputId": "22b31b33-b966-4cb2-b9eb-8871b4e1bcd0"
      },
      "execution_count": null,
      "outputs": [
        {
          "output_type": "stream",
          "name": "stdout",
          "text": [
            "\ta\n",
            "a\ta\ta\n",
            "\ta\n"
          ]
        }
      ]
    },
    {
      "cell_type": "code",
      "source": [
        "print('100.00')"
      ],
      "metadata": {
        "colab": {
          "base_uri": "https://localhost:8080/"
        },
        "id": "mLBhE59cBuIh",
        "outputId": "998d4630-3a86-4e63-93fd-49cfdf0d0406"
      },
      "execution_count": null,
      "outputs": [
        {
          "output_type": "stream",
          "name": "stdout",
          "text": [
            "100.00\n"
          ]
        }
      ]
    },
    {
      "cell_type": "code",
      "source": [
        "print('%d' %100)"
      ],
      "metadata": {
        "colab": {
          "base_uri": "https://localhost:8080/"
        },
        "id": "86fHGhwpHrDy",
        "outputId": "cb873c23-099a-407b-ada6-5ff5615979b7"
      },
      "execution_count": null,
      "outputs": [
        {
          "output_type": "stream",
          "name": "stdout",
          "text": [
            "100\n"
          ]
        }
      ]
    },
    {
      "cell_type": "code",
      "source": [
        "print('%d' %100.58)"
      ],
      "metadata": {
        "colab": {
          "base_uri": "https://localhost:8080/"
        },
        "id": "9pRSqBHGHrHZ",
        "outputId": "34c9f75b-9116-4797-9d14-1fdc499c0876"
      },
      "execution_count": null,
      "outputs": [
        {
          "output_type": "stream",
          "name": "stdout",
          "text": [
            "100\n"
          ]
        }
      ]
    },
    {
      "cell_type": "code",
      "source": [
        "print('%f' %-100.89)"
      ],
      "metadata": {
        "colab": {
          "base_uri": "https://localhost:8080/"
        },
        "id": "9sF51jB2HrLL",
        "outputId": "2a84e447-0fd8-4ec2-e441-98a139f6e843"
      },
      "execution_count": null,
      "outputs": [
        {
          "output_type": "stream",
          "name": "stdout",
          "text": [
            "-100.890000\n"
          ]
        }
      ]
    },
    {
      "cell_type": "code",
      "source": [
        "print('%.2f' %100.89)"
      ],
      "metadata": {
        "colab": {
          "base_uri": "https://localhost:8080/"
        },
        "id": "2LulX12YJPS3",
        "outputId": "4870334b-b410-4574-f391-d9b026bed7cf"
      },
      "execution_count": null,
      "outputs": [
        {
          "output_type": "stream",
          "name": "stdout",
          "text": [
            "100.89\n"
          ]
        }
      ]
    },
    {
      "cell_type": "code",
      "source": [
        "from math import pi\n",
        "print('%.2f' %pi)"
      ],
      "metadata": {
        "colab": {
          "base_uri": "https://localhost:8080/"
        },
        "id": "9W2yoRQlJxH4",
        "outputId": "28ba5543-3e37-4b96-dc24-286f2965e27f"
      },
      "execution_count": null,
      "outputs": [
        {
          "output_type": "stream",
          "name": "stdout",
          "text": [
            "3.14\n"
          ]
        }
      ]
    },
    {
      "cell_type": "code",
      "source": [
        "print('%.4f' %pi)"
      ],
      "metadata": {
        "colab": {
          "base_uri": "https://localhost:8080/"
        },
        "id": "mls-WWJuJxX4",
        "outputId": "5906152f-907b-4ac7-aa37-fa688c42bac7"
      },
      "execution_count": null,
      "outputs": [
        {
          "output_type": "stream",
          "name": "stdout",
          "text": [
            "3.1416\n"
          ]
        }
      ]
    },
    {
      "cell_type": "code",
      "source": [
        "print('%.50f' %pi)"
      ],
      "metadata": {
        "colab": {
          "base_uri": "https://localhost:8080/"
        },
        "id": "-GesoG3gJxjo",
        "outputId": "3a0d3cfe-3373-4392-a501-8cae3cce0a91"
      },
      "execution_count": null,
      "outputs": [
        {
          "output_type": "stream",
          "name": "stdout",
          "text": [
            "3.14159265358979311599796346854418516159057617187500\n"
          ]
        }
      ]
    },
    {
      "cell_type": "code",
      "source": [
        "print('My age is', 25,'I have', 3500.50,'Bth.')"
      ],
      "metadata": {
        "colab": {
          "base_uri": "https://localhost:8080/"
        },
        "id": "LAffCTquJxtA",
        "outputId": "633310db-f06a-4b34-e2c5-df7e8147fdc3"
      },
      "execution_count": null,
      "outputs": [
        {
          "output_type": "stream",
          "name": "stdout",
          "text": [
            "My age is 25 I have 3500.5 Bth.\n"
          ]
        }
      ]
    },
    {
      "cell_type": "code",
      "source": [
        "print('My age is %d I have %.2f Bth.' %(25,3500.50))"
      ],
      "metadata": {
        "colab": {
          "base_uri": "https://localhost:8080/"
        },
        "id": "vSJK8CZDJx1q",
        "outputId": "a8ffe378-95cc-4633-838e-e930bb6a267e"
      },
      "execution_count": null,
      "outputs": [
        {
          "output_type": "stream",
          "name": "stdout",
          "text": [
            "My age is 25 I have 3500.50 Bth.\n"
          ]
        }
      ]
    },
    {
      "cell_type": "code",
      "source": [
        "print('My age is'+ str(25)+'I have '+str(3500.50)+'Bth.')"
      ],
      "metadata": {
        "colab": {
          "base_uri": "https://localhost:8080/"
        },
        "id": "ugmKZOP4JyNw",
        "outputId": "9ac5512a-6ca1-430d-eb38-5c4ae1b3a0ff"
      },
      "execution_count": null,
      "outputs": [
        {
          "output_type": "stream",
          "name": "stdout",
          "text": [
            "My age is25I have 3500.5Bth.\n"
          ]
        }
      ]
    },
    {
      "cell_type": "code",
      "source": [
        "print('5+4=',5+4)"
      ],
      "metadata": {
        "colab": {
          "base_uri": "https://localhost:8080/"
        },
        "id": "SYq2Xt8WJyZw",
        "outputId": "ce63b7cd-4da4-4c34-bc65-aa9db382334d"
      },
      "execution_count": null,
      "outputs": [
        {
          "output_type": "stream",
          "name": "stdout",
          "text": [
            "5+4= 9\n"
          ]
        }
      ]
    },
    {
      "cell_type": "code",
      "source": [
        "print('5+4 = %.2f' %(5+4))"
      ],
      "metadata": {
        "colab": {
          "base_uri": "https://localhost:8080/"
        },
        "id": "Ldyv5wj-McPw",
        "outputId": "ea6a75a4-1269-446b-b9ec-1821e06384b3"
      },
      "execution_count": null,
      "outputs": [
        {
          "output_type": "stream",
          "name": "stdout",
          "text": [
            "5+4 = 9.00\n"
          ]
        }
      ]
    },
    {
      "cell_type": "code",
      "source": [
        "print('5+4 = ' +str(5+4))"
      ],
      "metadata": {
        "colab": {
          "base_uri": "https://localhost:8080/"
        },
        "id": "PuOcTB_zMcSY",
        "outputId": "53688429-0f81-4da9-bbdc-1f35b663578b"
      },
      "execution_count": null,
      "outputs": [
        {
          "output_type": "stream",
          "name": "stdout",
          "text": [
            "5+4 = 9\n"
          ]
        }
      ]
    },
    {
      "cell_type": "code",
      "source": [],
      "metadata": {
        "id": "IlzAxdPKMcU7"
      },
      "execution_count": null,
      "outputs": []
    },
    {
      "cell_type": "code",
      "source": [],
      "metadata": {
        "id": "BXdLvBP4McXo"
      },
      "execution_count": null,
      "outputs": []
    },
    {
      "cell_type": "code",
      "source": [],
      "metadata": {
        "id": "JAKjYuWCMcZx"
      },
      "execution_count": null,
      "outputs": []
    }
  ]
}