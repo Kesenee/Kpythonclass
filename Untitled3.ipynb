{
  "nbformat": 4,
  "nbformat_minor": 0,
  "metadata": {
    "colab": {
      "provenance": [],
      "authorship_tag": "ABX9TyPw21GZzv3bO2KhBSSjWdLH",
      "include_colab_link": true
    },
    "kernelspec": {
      "name": "python3",
      "display_name": "Python 3"
    },
    "language_info": {
      "name": "python"
    }
  },
  "cells": [
    {
      "cell_type": "markdown",
      "metadata": {
        "id": "view-in-github",
        "colab_type": "text"
      },
      "source": [
        "<a href=\"https://colab.research.google.com/github/Kesenee/Kpythonclass/blob/main/Untitled3.ipynb\" target=\"_parent\"><img src=\"https://colab.research.google.com/assets/colab-badge.svg\" alt=\"Open In Colab\"/></a>"
      ]
    },
    {
      "cell_type": "code",
      "execution_count": 2,
      "metadata": {
        "colab": {
          "base_uri": "https://localhost:8080/"
        },
        "id": "Wc1ptLP_-PVj",
        "outputId": "008d0a88-7d2f-4fd6-b825-480acc4c1690"
      },
      "outputs": [
        {
          "name": "stdout",
          "output_type": "stream",
          "text": [
            "Hello\n",
            "Do you want to see that again?\n",
            "y = yes, anything else = no:y\n",
            "Hello\n",
            "Do you want to see that again?\n",
            "y = yes, anything else = no:y\n",
            "Hello\n",
            "Do you want to see that again?\n",
            "y = yes, anything else = no:n\n"
          ]
        }
      ],
      "source": [
        "again ='y'\n",
        "while again.lower() == 'y':\n",
        "  print('Hello')\n",
        "  print('Do you want to see that again?')\n",
        "  again = input('y = yes, anything else = no:')"
      ]
    }
  ]
}