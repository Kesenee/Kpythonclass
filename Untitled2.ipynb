{
  "nbformat": 4,
  "nbformat_minor": 0,
  "metadata": {
    "colab": {
      "provenance": [],
      "authorship_tag": "ABX9TyMHo/cwJqWCG1hQ9kCCR9Gd",
      "include_colab_link": true
    },
    "kernelspec": {
      "name": "python3",
      "display_name": "Python 3"
    },
    "language_info": {
      "name": "python"
    }
  },
  "cells": [
    {
      "cell_type": "markdown",
      "metadata": {
        "id": "view-in-github",
        "colab_type": "text"
      },
      "source": [
        "<a href=\"https://colab.research.google.com/github/Kesenee/Kpythonclass/blob/main/Untitled2.ipynb\" target=\"_parent\"><img src=\"https://colab.research.google.com/assets/colab-badge.svg\" alt=\"Open In Colab\"/></a>"
      ]
    },
    {
      "cell_type": "code",
      "execution_count": 1,
      "metadata": {
        "colab": {
          "base_uri": "https://localhost:8080/"
        },
        "id": "1R9r99ib1SVw",
        "outputId": "1d558313-aaeb-49a9-9fe4-8c5d5b597eb7"
      },
      "outputs": [
        {
          "output_type": "stream",
          "name": "stdout",
          "text": [
            "y\n",
            "Shark\n",
            "Sammy\n",
            "hark!\n",
            "\n",
            "Shark\n",
            "Shark\n",
            "SmySak\n",
            "Sya\n",
            "Sya\n",
            "!krahS ymmaS\n",
            "!rh ma\n"
          ]
        }
      ],
      "source": [
        "ss = \"Sammy Shark!\"\n",
        "print(ss[4])\n",
        "print(ss[6:11])\n",
        "print(ss[:5])\n",
        "print(ss[7:])\n",
        "print(ss[-4:-11])\n",
        "print(ss[6:11])\n",
        "print(ss[6:11:1])\n",
        "print(ss[0:12:2])\n",
        "print(ss[0:12:4])\n",
        "print(ss[::4])\n",
        "print(ss[::-1])\n",
        "print(ss[::-2])"
      ]
    },
    {
      "cell_type": "code",
      "source": [
        "again ='y'\n",
        "while again.lower() == 'y':\n",
        "  print('Hello')\n",
        "  print('Do you want to see that again?')\n",
        "  again = input('y = yes, anything else = no:')"
      ],
      "metadata": {
        "colab": {
          "base_uri": "https://localhost:8080/"
        },
        "id": "NiO26B_kCCXG",
        "outputId": "e48ea927-229c-4064-ee8c-b997717d5915"
      },
      "execution_count": 2,
      "outputs": [
        {
          "name": "stdout",
          "output_type": "stream",
          "text": [
            "Hello\n",
            "Do you want to see that again?\n",
            "y = yes, anything else = no:y\n",
            "Hello\n",
            "Do you want to see that again?\n",
            "y = yes, anything else = no:y\n",
            "Hello\n",
            "Do you want to see that again?\n",
            "y = yes, anything else = no:n\n"
          ]
        }
      ]
    },
    {
      "cell_type": "code",
      "source": [
        "print( 'I   {}    Python.   ' .format(' love ')  )\n",
        "print( '   {}     {}     {}   ' .format('I',   'love',   'Python.') )"
      ],
      "metadata": {
        "colab": {
          "base_uri": "https://localhost:8080/"
        },
        "id": "prPH5GgHCIK1",
        "outputId": "350c71ca-6c38-4c31-9fc2-3b23b20d3784"
      },
      "execution_count": 3,
      "outputs": [
        {
          "output_type": "stream",
          "name": "stdout",
          "text": [
            "I    love     Python.   \n",
            "   I     love     Python.   \n"
          ]
        }
      ]
    },
    {
      "cell_type": "code",
      "source": [
        "version = 3\n",
        "print(' I    love    Python  {}.' .format(version))"
      ],
      "metadata": {
        "colab": {
          "base_uri": "https://localhost:8080/"
        },
        "id": "tVFZKfN7CPCb",
        "outputId": "98ea17e5-7019-4e07-968a-2792500df516"
      },
      "execution_count": 4,
      "outputs": [
        {
          "output_type": "stream",
          "name": "stdout",
          "text": [
            " I    love    Python  3.\n"
          ]
        }
      ]
    },
    {
      "cell_type": "code",
      "source": [
        "print(' {0:8}   |   {1:8} ' .format('Fruit'  , 'Quantity'))\n",
        "print(' {0:8}   |   {1:8} ' .format('Apple'  , '3'))\n",
        "print(' {0:8}   |   {1:8} ' .format('Orange'  , '10'))"
      ],
      "metadata": {
        "colab": {
          "base_uri": "https://localhost:8080/"
        },
        "id": "_Z-j9XjPCWf6",
        "outputId": "cb0f7ed0-d9fe-461e-f95d-61a2c008c40b"
      },
      "execution_count": 5,
      "outputs": [
        {
          "output_type": "stream",
          "name": "stdout",
          "text": [
            " Fruit      |   Quantity \n",
            " Apple      |   3        \n",
            " Orange     |   10       \n"
          ]
        }
      ]
    },
    {
      "cell_type": "code",
      "source": [
        "balloon = \"Anirach has a balloon.\"\n",
        "\n",
        "print(\" \".join(balloon))\n",
        "print(\"\".join(reversed(balloon)))\n",
        "print(\"\".join([\"sharks\", \"crustaceans\",\"plankton\"]))"
      ],
      "metadata": {
        "colab": {
          "base_uri": "https://localhost:8080/"
        },
        "id": "d99MoUICCzM9",
        "outputId": "03b846a5-02c1-44c3-d553-34051392118e"
      },
      "execution_count": 6,
      "outputs": [
        {
          "output_type": "stream",
          "name": "stdout",
          "text": [
            "A n i r a c h   h a s   a   b a l l o o n .\n",
            ".noollab a sah hcarinA\n",
            "sharkscrustaceansplankton\n"
          ]
        }
      ]
    },
    {
      "cell_type": "code",
      "source": [
        "balloon = \"Anirach has a balloon.\"\n",
        "\n",
        "print(balloon.split())\n",
        "print(balloon.split(\"a\"))"
      ],
      "metadata": {
        "colab": {
          "base_uri": "https://localhost:8080/"
        },
        "id": "H7mrZydDD5hG",
        "outputId": "4bf92430-469b-4b39-c2d5-e3063c43d16f"
      },
      "execution_count": 7,
      "outputs": [
        {
          "output_type": "stream",
          "name": "stdout",
          "text": [
            "['Anirach', 'has', 'a', 'balloon.']\n",
            "['Anir', 'ch h', 's ', ' b', 'lloon.']\n"
          ]
        }
      ]
    }
  ]
}