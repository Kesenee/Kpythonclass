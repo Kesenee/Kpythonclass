{
  "nbformat": 4,
  "nbformat_minor": 0,
  "metadata": {
    "colab": {
      "provenance": [],
      "authorship_tag": "ABX9TyNn3QDMMQgCzEzW23QK8mvO",
      "include_colab_link": true
    },
    "kernelspec": {
      "name": "python3",
      "display_name": "Python 3"
    },
    "language_info": {
      "name": "python"
    }
  },
  "cells": [
    {
      "cell_type": "markdown",
      "metadata": {
        "id": "view-in-github",
        "colab_type": "text"
      },
      "source": [
        "<a href=\"https://colab.research.google.com/github/Kesenee/Kpythonclass/blob/main/Untitled2.ipynb\" target=\"_parent\"><img src=\"https://colab.research.google.com/assets/colab-badge.svg\" alt=\"Open In Colab\"/></a>"
      ]
    },
    {
      "cell_type": "code",
      "execution_count": 1,
      "metadata": {
        "colab": {
          "base_uri": "https://localhost:8080/"
        },
        "id": "1R9r99ib1SVw",
        "outputId": "1d558313-aaeb-49a9-9fe4-8c5d5b597eb7"
      },
      "outputs": [
        {
          "output_type": "stream",
          "name": "stdout",
          "text": [
            "y\n",
            "Shark\n",
            "Sammy\n",
            "hark!\n",
            "\n",
            "Shark\n",
            "Shark\n",
            "SmySak\n",
            "Sya\n",
            "Sya\n",
            "!krahS ymmaS\n",
            "!rh ma\n"
          ]
        }
      ],
      "source": [
        "ss = \"Sammy Shark!\"\n",
        "print(ss[4])\n",
        "print(ss[6:11])\n",
        "print(ss[:5])\n",
        "print(ss[7:])\n",
        "print(ss[-4:-11])\n",
        "print(ss[6:11])\n",
        "print(ss[6:11:1])\n",
        "print(ss[0:12:2])\n",
        "print(ss[0:12:4])\n",
        "print(ss[::4])\n",
        "print(ss[::-1])\n",
        "print(ss[::-2])"
      ]
    }
  ]
}